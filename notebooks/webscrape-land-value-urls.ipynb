{
 "cells": [
  {
   "cell_type": "code",
   "execution_count": 2,
   "metadata": {},
   "outputs": [],
   "source": [
    "import requests\n",
    "from bs4 import BeautifulSoup\n",
    "def create_url(path):\n",
    "    return \"https://www.valuergeneral.nsw.gov.au/land_value_summaries\" + path.lstrip(\".\")"
   ]
  },
  {
   "cell_type": "code",
   "execution_count": 3,
   "metadata": {},
   "outputs": [],
   "source": [
    "url = \"https://www.valuergeneral.nsw.gov.au/land_value_summaries/lv.php\"\n",
    "response = requests.get(url)\n",
    "\n",
    "if response.ok:\n",
    "    # generate soup for html text content\n",
    "    soup = BeautifulSoup(response.content)\n",
    "\n",
    "    # get the last 12 month's worth of links\n",
    "    last_12_a_tags = soup.find(\"div\", class_=\"panel-body\")(\"a\")[-12:]\n",
    "    links = [create_url(ele.get(\"href\")) for ele in last_12_a_tags]\n",
    "\n",
    "# save to file\n",
    "with open(\"../data/land-value-urls.txt\", \"w\") as f:\n",
    "    f.write(\"\\n\".join(links))"
   ]
  },
  {
   "cell_type": "code",
   "execution_count": null,
   "metadata": {},
   "outputs": [],
   "source": []
  }
 ],
 "metadata": {
  "kernelspec": {
   "display_name": "Python 3",
   "language": "python",
   "name": "python3"
  },
  "language_info": {
   "codemirror_mode": {
    "name": "ipython",
    "version": 3
   },
   "file_extension": ".py",
   "mimetype": "text/x-python",
   "name": "python",
   "nbconvert_exporter": "python",
   "pygments_lexer": "ipython3",
   "version": "3.7.6"
  }
 },
 "nbformat": 4,
 "nbformat_minor": 4
}
